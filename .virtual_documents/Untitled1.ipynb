from tensorflow.keras.models import load_model
import numpy as np
import base64
from PIL import Image
import io
import os


# Load the trained model
model = load_model("emotion_detection_cnn.h5")

# Define the emotion labels
emotion_labels = ['Angry', 'Disgust', 'Fear', 'Happy', 'Neutral', 'Sad', 'Surprise']


def predict_emotion(base64_image):
    """
    Takes a base64 encoded image, preprocesses it, and predicts the emotion.
    """
    try:
        # Decode the base64 image
        decoded_image = base64.b64decode(base64_image)
        img = Image.open(io.BytesIO(decoded_image)).convert("L")  # Convert to grayscale
        img = img.resize((48, 48))  # Resize to model's input size

        # Convert image to numpy array and normalize
        img_array = np.array(img) / 255.0
        img_array = np.expand_dims(img_array, axis=0)  # Add batch dimension
        img_array = np.expand_dims(img_array, axis=-1)  # Add channel dimension

        # Predict emotion
        os.environ["TF_CPP_MIN_LOG_LEVEL"] = "3"
        predictions = model.predict(img_array, verbose=0)  # Ensure no verbosity during prediction

        emotion_index = np.argmax(predictions)
        emotion = emotion_labels[emotion_index]
        confidence = predictions[0][emotion_index]

        return {"emotion": emotion, "confidence": float(confidence)}

    except Exception as e:
        return {"error": str(e)}



def load_image_as_base64(image_path):
    with open(image_path, "rb") as img_file:
        return base64.b64encode(img_file.read()).decode('utf-8')


def evaluate_model(images_path):
    emotion_folders = os.listdir(images_path)
    results = {}

    for emotion in emotion_folders:
        folder_path = os.path.join(images_path, emotion)
        if not os.path.isdir(folder_path):
            continue  # Skip if it's not a directory

        total_images = 0
        correct_predictions = 0

        for image_name in os.listdir(folder_path):
            image_path = os.path.join(folder_path, image_name)
            if not os.path.isfile(image_path):
                continue  # Skip if it's not a file

            try:
                base64_image = load_image_as_base64(image_path)
                prediction_result = predict_emotion(base64_image)
                predicted_emotion = prediction_result.get("emotion", "").lower()

                total_images += 1
                if predicted_emotion == emotion:
                    correct_predictions += 1
            except Exception as e:
                print(f"Error processing {image_path}: {e}")
                continue

        # Calculate accuracy for the current emotion
        accuracy = (correct_predictions / total_images) * 100 if total_images > 0 else 0
        results[emotion] = {
            "total": total_images,
            "correct": correct_predictions,
            "incorrect": total_images - correct_predictions,
            "accuracy": accuracy,
        }

    return results


images_path = "/home/anas/Desktop/S.A.I/datasets/test/"
results = evaluate_model(images_path)

# Print results
for emotion, stats in results.items():
    print(f"Emotion: {emotion}")
    print(f"  Total Images: {stats['total']}")
    print(f"  Correct Predictions: {stats['correct']}")
    print(f"  Incorrect Predictions: {stats['incorrect']}")
    print(f"  Accuracy: {stats['accuracy']:.2f}%")
    print()




